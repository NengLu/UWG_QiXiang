{
 "cells": [
  {
   "cell_type": "markdown",
   "metadata": {},
   "source": [
    "######\n",
    "\n",
    "### Database\n",
    "\n",
    "- [Earth2014](http://ddfe.curtin.edu.au/models/Earth2014/) (Arc‐min shape, topography, bedrock and ice‐sheet models)\n",
    "\n",
    "\n",
    "\n",
    "\n",
    "Here downloads [Earth2014.TBI2014.1min.geod.bin]"
   ]
  },
  {
   "cell_type": "code",
   "execution_count": 3,
   "metadata": {},
   "outputs": [],
   "source": [
    "import numpy as np\n",
    "import os\n",
    "import pyshtools as pysh\n",
    "#import shapefile\n",
    "from osgeo import gdal\n",
    "from osgeo import osr\n",
    "\n",
    "\n",
    "import matplotlib.pyplot as plt\n",
    "from matplotlib import cm\n",
    "%matplotlib inline\n",
    "from matplotlib.colors import LightSource\n",
    "from mpl_toolkits.axes_grid1 import make_axes_locatable\n",
    "\n",
    "from qixiang import functions as fnqx"
   ]
  },
  {
   "cell_type": "code",
   "execution_count": 7,
   "metadata": {},
   "outputs": [],
   "source": [
    "dir_db   = '../Data/earth2014/data_1min/topo_grids'\n",
    "fname_db = 'Earth2014.TBI2014.1min.geod.bin' \n",
    "fname_save  = 'Earth2014.TBI2014.1min' \n",
    "order_db = 10800\n",
    "res_deg = 1/60\n",
    "\n",
    "# dir_db   = '../Data/earth2014/data_5min/topo_grids'\n",
    "# fname_db = 'Earth2014.TBI2014.5min.geod.bin' \n",
    "# fname_save  = 'Earth2014.TBI2014.5min' \n",
    "# order_db = 2160\n",
    "# res_deg = 5/60\n",
    "\n",
    "fname_topo = os.path.join(dir_db,fname_db)"
   ]
  },
  {
   "cell_type": "code",
   "execution_count": 8,
   "metadata": {},
   "outputs": [],
   "source": [
    "# This scirpt shows how to access the data grids of earth2014 model\n",
    "# Source code: access_Earth2014_grids5min.m (Christian Hirt, Moritz Rexer)\n",
    "\n",
    "# grid definitions\n",
    "ylimvec = [-90,90]\n",
    "xlimvec = [-180,180]\n",
    "\n",
    "lats = np.arange((-90+res_deg/2),(90-res_deg/4),res_deg)\n",
    "lons = np.arange((-180+res_deg/2),(180-res_deg/4),res_deg)\n",
    "nlat = len(lats) \n",
    "nlon = len(lons)\n",
    "\n",
    "minlon1,maxlon1,minlat1,maxlat1 = (lons.min(),lons.max(),lats.min(),lats.max())\n",
    "global_extent = [minlon1,maxlon1,minlat1,maxlat1]\n",
    "\n",
    "# read data\n",
    "data_topo = np.fromfile(fname_topo, dtype='>i2').reshape((nlat, nlon))\n",
    "data_topo = data_topo.astype(np.int16) # data = data.astype('<i2')\n",
    "data_topo = np.flipud(data_topo)\n",
    "\n",
    "# get SHCs\n",
    "#topo = pysh.SHGrid.from_array(data_topo)\n",
    "#coeffs = pysh.expand.SHExpandDH(topo.data, sampling=2)"
   ]
  },
  {
   "cell_type": "code",
   "execution_count": 9,
   "metadata": {},
   "outputs": [],
   "source": [
    "# grid definitions of region\n",
    "#name_area ='Tibet'\n",
    "#minlon2,maxlon2,minlat2,maxlat2 = (65,110,15,45) # Tibet\n",
    "name_area ='TRR'\n",
    "minlon2,maxlon2,minlat2,maxlat2 = (88,108,20,36)\n",
    "\n",
    "# name_area = 'TRR2'\n",
    "# minlon2,maxlon2,minlat2,maxlat2 = (91, 106,21,35)\n",
    "\n",
    "order_t = order_db\n",
    "#minlon2,maxlon2,minlat2,maxlat2 = extent_area  \n",
    "\n",
    "minX_index = np.int(nlon/(maxlon1-minlon1)*(minlon2-minlon1))\n",
    "maxX_index = np.int(nlon/(maxlon1-minlon1)*(maxlon2-minlon1)) \n",
    "minY_index = np.int(nlat/(maxlat1-minlat1)*(minlat2-minlat1)) \n",
    "maxY_index = np.int(nlat/(maxlat1-minlat1)*(maxlat2-minlat1))\n",
    "\n",
    "# real coordinates \n",
    "minlon3,maxlon3,minlat3,maxlat3 = (lons[minX_index],lons[maxX_index],lats[minY_index],lats[maxY_index])"
   ]
  },
  {
   "cell_type": "code",
   "execution_count": 10,
   "metadata": {},
   "outputs": [
    {
     "data": {
      "text/plain": [
       "(88.0083333335466, 108.00833333356252, 20.008333333327087, 36.00833333332618)"
      ]
     },
     "execution_count": 10,
     "metadata": {},
     "output_type": "execute_result"
    }
   ],
   "source": [
    "minlon3,maxlon3,minlat3,maxlat3"
   ]
  },
  {
   "cell_type": "code",
   "execution_count": 24,
   "metadata": {},
   "outputs": [],
   "source": [
    "topo_fs = np.flipud(data_topo.copy())\n",
    "data = topo_fs[minY_index:maxY_index,minX_index:maxX_index]\n",
    "data = np.flipud(data)\n",
    "\n",
    "fname_data = '../Data/dem/' + name_area + '_'+ fname_save + '.order'+ str(order_t)+ '.tif'\n",
    "latRange = [minlat3,maxlat3]\n",
    "lonRange = [minlon3,maxlon3]\n",
    "dtype = gdal.GDT_Float32\n",
    "\n",
    "qxfn.array2geotiff_yx(fname_data, data, latRange, lonRange, dtype)"
   ]
  },
  {
   "cell_type": "code",
   "execution_count": 22,
   "metadata": {},
   "outputs": [],
   "source": [
    "gdal.GetDriverByName('GTiff').Create(fname_data, nx, ny, 1, dtype)"
   ]
  },
  {
   "cell_type": "code",
   "execution_count": null,
   "metadata": {},
   "outputs": [],
   "source": [
    "input_file = \"../Data/dem/srtm_TRR_90m.tif\"\n",
    "bounds = (91, 21, 106,35)\n",
    "minX, minY, maxX, maxY = bounds"
   ]
  },
  {
   "cell_type": "code",
   "execution_count": null,
   "metadata": {},
   "outputs": [],
   "source": [
    "gtiff = gdal.Open(input_file )\n",
    "# width = gtiff.RasterXSize\n",
    "# height = gtiff.RasterYSize\n",
    "# gt = gtiff.GetGeoTransform()\n",
    "img = gtiff.GetRasterBand(1).ReadAsArray()"
   ]
  },
  {
   "cell_type": "code",
   "execution_count": null,
   "metadata": {},
   "outputs": [],
   "source": [
    "!gdalinfo $input_file"
   ]
  },
  {
   "cell_type": "code",
   "execution_count": null,
   "metadata": {},
   "outputs": [],
   "source": [
    "fig = plt.figure(1, figsize=(5,4))\n",
    "ax = fig.add_subplot(111, xlim=(minX,maxX), ylim=(minY,maxY))\n",
    "# ax.axis('off')\n",
    "ls = LightSource(azdeg=315, altdeg=45)\n",
    "rgb = ls.shade(img, cmap=cm.terrain, blend_mode='soft', vert_exag=2., dx=50, dy=50)\n",
    "im1 = ax.imshow(rgb, extent=[minX, maxX, minY, maxY], cmap=cm.terrain, origin='upper')\n",
    "plt.show()"
   ]
  },
  {
   "cell_type": "code",
   "execution_count": null,
   "metadata": {},
   "outputs": [],
   "source": [
    "# project the SRTM data for Topotoolbox input\n",
    "input_file = \"../Data/dem/srtm_TRR_90m.tif\"\n",
    "output_file = \"../Data/dem/srtm_TRR_90m_lower.tif\"\n",
    "\n",
    "#!gdalinfo --version\n",
    "#!gdalinfo $input_file\n",
    "\n",
    "proj_input = 'EPSG:4326'\n",
    "# lat_0 = (Ymin+Ymax)/2 lon_0 = (Xmin+Xmax)/2 \n",
    "#proj_output = \"'+proj=tmerc +lat_0=29 +lon_0=100 +k=1 x_0=0 +y_0=0 +datum=WGS84 +units=m +no_defs'\" \n",
    "proj_output = 'EPSG:4326'\n",
    "\n",
    "\n",
    "!gdalwarp -s_srs $proj_input -t_srs $proj_output -ts 1400 0 -r bilinear $input_file $output_file"
   ]
  },
  {
   "cell_type": "code",
   "execution_count": null,
   "metadata": {},
   "outputs": [],
   "source": [
    "# project the SRTM data for Topotoolbox input\n",
    "input_file = \"../data/dem/srtm_TRR_90m.tif\"\n",
    "output_file = \"../data/dem/srtm_TRR_90m_lower.tif\"\n",
    "\n",
    "#!gdalinfo --version\n",
    "#!gdalinfo $input_file\n",
    "\n",
    "proj_input = 'EPSG:4326'\n",
    "# lat_0 = (Ymin+Ymax)/2 lon_0 = (Xmin+Xmax)/2 \n",
    "#proj_output = \"'+proj=tmerc +lat_0=29 +lon_0=100 +k=1 x_0=0 +y_0=0 +datum=WGS84 +units=m +no_defs'\" \n",
    "proj_output = \"'+proj=tmerc +lat_0=28 +lon_0=98.5 +k=1 x_0=0 +y_0=0 +datum=WGS84 +units=m +no_defs'\" \n",
    "\n",
    "\n",
    "!gdalwarp -s_srs $proj_input -t_srs $proj_output -ts 1400 0 -r bilinear $input_file $output_file"
   ]
  },
  {
   "cell_type": "code",
   "execution_count": null,
   "metadata": {},
   "outputs": [],
   "source": []
  }
 ],
 "metadata": {
  "kernelspec": {
   "display_name": "py37　",
   "language": "python",
   "name": "py37"
  },
  "language_info": {
   "codemirror_mode": {
    "name": "ipython",
    "version": 3
   },
   "file_extension": ".py",
   "mimetype": "text/x-python",
   "name": "python",
   "nbconvert_exporter": "python",
   "pygments_lexer": "ipython3",
   "version": "3.7.6"
  }
 },
 "nbformat": 4,
 "nbformat_minor": 4
}
