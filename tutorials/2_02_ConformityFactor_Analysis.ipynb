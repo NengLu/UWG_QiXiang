{
 "cells": [
  {
   "cell_type": "markdown",
   "metadata": {},
   "source": [
    "## Proxy metrics for\n",
    "\n",
    "Conformity Factor $\\Lambda$\n",
    "\n",
    "The conformity factor $\\Lambda$, is defined as $\\Lambda$ = median[$\\cos(\\delta)$], where $\\delta$ is the angle between the river drainage direction and the downslope direction of the topographic expansion (Black et al., 2017).\n",
    "\n",
    "Here we define CF as $\\Lambda$ = $\\cos(\\delta)$\n",
    "\n",
    "\n",
    "## Reference\n",
    "\n",
    "Black, B. A., Perron, J. T., Hemingway, D., Bailey, E., Nimmo, F., & Zebker, H. (2017). Global drainage patterns and the origins of topographic relief on Earth, Mars, and Titan. Science, 356(6339), 727-731. [[Link]](https://science.sciencemag.org/content/356/6339/727.abstract)"
   ]
  },
  {
   "cell_type": "code",
   "execution_count": 1,
   "metadata": {},
   "outputs": [],
   "source": [
    "import numpy as np\n",
    "import os \n",
    "import pyshtools as pysh\n",
    "\n",
    "import matplotlib.pyplot as plt\n",
    "from matplotlib import cm\n",
    "%matplotlib inline\n",
    "\n",
    "from qixiang import functions as fnqx"
   ]
  },
  {
   "cell_type": "code",
   "execution_count": 2,
   "metadata": {},
   "outputs": [],
   "source": [
    "# dir_db   = '../Data/earth2014/data_1min/topo_grids'\n",
    "# fname_db = 'Earth2014.TBI2014.1min.geod.bin' \n",
    "# fname_save  = 'Earth2014.TBI2014.1min' \n",
    "# order_db = 10800\n",
    "# res_deg = 1/60\n",
    "\n",
    "dir_db   = '../Data/earth2014/data_5min/topo_grids'\n",
    "fname_db = 'Earth2014.TBI2014.5min.geod.bin' \n",
    "fname_save  = 'Earth2014.TBI2014.5min' \n",
    "order_db = 2160\n",
    "res_deg = 5/60\n",
    "\n",
    "fname_topo = os.path.join(dir_db,fname_db)"
   ]
  },
  {
   "cell_type": "code",
   "execution_count": 3,
   "metadata": {},
   "outputs": [],
   "source": [
    "# This scirpt shows how to access the data grids of earth2014 model\n",
    "# Source code: access_Earth2014_grids5min.m (Christian Hirt, Moritz Rexer)\n",
    "\n",
    "# grid definitions\n",
    "lats = np.arange((-90+res_deg/2),(90-res_deg/4),res_deg)\n",
    "lons = np.arange((-180+res_deg/2),(180-res_deg/4),res_deg)\n",
    "nlat = len(lats) \n",
    "nlon = len(lons)\n",
    "\n",
    "extent_earth2014= (lons.min(),lons.max(),lats.min(),lats.max())\n",
    "#extent_earth2014 = [minlon1,maxlon1,minlat1,maxlat1]\n",
    "\n",
    "# read data\n",
    "data_topo = np.fromfile(fname_topo, dtype='>i2').reshape((nlat, nlon))\n",
    "data_topo = data_topo.astype(np.int16) # data = data.astype('<i2')\n",
    "data_topo = np.flipud(data_topo)\n",
    "\n",
    "# get SHCs\n",
    "topo = pysh.SHGrid.from_array(data_topo)\n",
    "coeffs = pysh.expand.SHExpandDH(topo.data, sampling=2)"
   ]
  },
  {
   "cell_type": "code",
   "execution_count": 4,
   "metadata": {},
   "outputs": [],
   "source": [
    "# grid definitions of region\n",
    "name_area ='TRR'\n",
    "extent_trr  = (88,108,20,36)\n",
    "\n",
    "extent_area = extent_trr\n",
    "order_t = order_db\n",
    "extent_area_r,data_area = fnqx.get_data(data_topo,extent_area,res_deg)\n",
    "\n",
    "lons_area = np.arange(extent_area_r[0],extent_area_r[1]+res_deg/2,res_deg)\n",
    "lats_area = np.arange(extent_area_r[2],extent_area_r[3]+res_deg/2,res_deg)\n",
    "Lons_area,Lats_area = np.meshgrid(lons_area,lats_area)"
   ]
  },
  {
   "cell_type": "code",
   "execution_count": 5,
   "metadata": {},
   "outputs": [],
   "source": [
    "labels= ['Yangtz','Mekong','Salween']\n",
    "labels2= ['Yz','Mk','Sw']\n",
    "colors =['b','r','c']\n",
    "\n",
    "xticks_area = np.arange(-180,180+2,5)\n",
    "yticks_area = np.arange(-90,90+2,5)"
   ]
  },
  {
   "cell_type": "code",
   "execution_count": 6,
   "metadata": {},
   "outputs": [],
   "source": [
    "order_s = order_db \n",
    "order_tRange = [1080,20]\n",
    "#order_trange = [2160,1080,540,270,135,27,20]\n",
    "\n",
    "# cartopy parameters\n",
    "# rivers = cfeature.NaturalEarthFeature('physical', 'rivers_lake_centerlines', '50m',\n",
    "#                                       edgecolor='Blue', facecolor=\"none\")\n",
    "# coastline = cfeature.NaturalEarthFeature('physical', 'coastline', '50m',\n",
    "#                            edgecolor=(0.0,0.0,0.0),\n",
    "#                            facecolor=\"none\")\n",
    "# lakes = cfeature.NaturalEarthFeature('physical', 'lakes', '50m',\n",
    "#                                         edgecolor=\"blue\", facecolor=\"blue\")\n",
    "# prj_base  = ccrs.PlateCarree() \n",
    "\n",
    "# plot parameters\n",
    "extent_img = extent_area_r  \n",
    "extent_fig = extent_area\n",
    "cmap = cm.terrain \n",
    "xticks = xticks_area\n",
    "yticks = yticks_area\n",
    "dpi    = 100\n",
    "save_mode = True"
   ]
  },
  {
   "cell_type": "code",
   "execution_count": null,
   "metadata": {},
   "outputs": [],
   "source": []
  },
  {
   "cell_type": "code",
   "execution_count": 7,
   "metadata": {},
   "outputs": [
    {
     "ename": "NameError",
     "evalue": "name 'find_closest' is not defined",
     "output_type": "error",
     "traceback": [
      "\u001b[0;31m---------------------------------------------------------------------------\u001b[0m",
      "\u001b[0;31mNameError\u001b[0m                                 Traceback (most recent call last)",
      "\u001b[0;32m<ipython-input-7-1af75fb9f94b>\u001b[0m in \u001b[0;36m<module>\u001b[0;34m\u001b[0m\n\u001b[1;32m      5\u001b[0m     \u001b[0mriver_xy\u001b[0m \u001b[0;34m=\u001b[0m \u001b[0mriver_xyo\u001b[0m\u001b[0;34m[\u001b[0m\u001b[0;34m:\u001b[0m\u001b[0;34m,\u001b[0m\u001b[0;36m0\u001b[0m\u001b[0;34m:\u001b[0m\u001b[0;36m2\u001b[0m\u001b[0;34m]\u001b[0m\u001b[0;34m\u001b[0m\u001b[0;34m\u001b[0m\u001b[0m\n\u001b[1;32m      6\u001b[0m \u001b[0;34m\u001b[0m\u001b[0m\n\u001b[0;32m----> 7\u001b[0;31m     \u001b[0mriver_xy_mesh\u001b[0m\u001b[0;34m,\u001b[0m\u001b[0mriver_xy_meshindex\u001b[0m\u001b[0;34m=\u001b[0m \u001b[0mfind_closest\u001b[0m\u001b[0;34m(\u001b[0m\u001b[0mriver_xy\u001b[0m\u001b[0;34m,\u001b[0m\u001b[0mlons_area\u001b[0m\u001b[0;34m,\u001b[0m\u001b[0mlats_area\u001b[0m\u001b[0;34m)\u001b[0m\u001b[0;34m\u001b[0m\u001b[0;34m\u001b[0m\u001b[0m\n\u001b[0m\u001b[1;32m      8\u001b[0m     \u001b[0mazi_river_mesh\u001b[0m \u001b[0;34m=\u001b[0m \u001b[0mfnqx\u001b[0m\u001b[0;34m.\u001b[0m\u001b[0mcal_azi_river\u001b[0m\u001b[0;34m(\u001b[0m\u001b[0mriver_xy_mesh\u001b[0m\u001b[0;34m)\u001b[0m\u001b[0;34m\u001b[0m\u001b[0;34m\u001b[0m\u001b[0m\n\u001b[1;32m      9\u001b[0m \u001b[0;34m\u001b[0m\u001b[0m\n",
      "\u001b[0;31mNameError\u001b[0m: name 'find_closest' is not defined"
     ]
    }
   ],
   "source": [
    "#  Calculate and save the azimuth of rivers in grid\n",
    "def find_closest(xy_t,x_s,y_s):\n",
    "    x = xy_t[:,0]\n",
    "    y = xy_t[:,1]\n",
    "    N = len(x)\n",
    "    xy_s = xy_t.copy()\n",
    "    xy_sindex = xy_t.copy()\n",
    "    for i in range(0,N):\n",
    "        idx = (np.abs(x[i]-x_s)).argmin()\n",
    "        xy_s[i,0]=x_s[idx]\n",
    "        xy_sindex[i,0]=idx\n",
    "    for i in range(0,N):\n",
    "        idy = (np.abs(y[i]-y_s)).argmin()\n",
    "        xy_s[i,1]=y_s[idy]\n",
    "        xy_sindex[i,1]=idy\n",
    "    _,idxy = np.unique(xy_s,axis=0,return_index=True)\n",
    "    xy_s2 = xy_s[np.sort(idxy)]\n",
    "    xy_sindex2 = xy_sindex[np.sort(idxy)].astype(int)\n",
    "    return xy_s2 ,xy_sindex2\n",
    "for i in range(0,len(labels)):\n",
    "    fname_load = \"data_rivers/River\"+labels2[i]+'.txt'\n",
    "    river_xyo = np.loadtxt(fname_load)  \n",
    "    river_xy = river_xyo[:,0:2]\n",
    "    \n",
    "    river_xy_mesh,river_xy_meshindex= find_closest(river_xy,lons_area,lats_area)\n",
    "    azi_river_mesh = fnqx.cal_azi_river(river_xy_mesh)\n",
    "    \n",
    "    fname_save = \"data_rivers/River\"+labels2[i]+'_mesh.txt'\n",
    "    np.savetxt(fname_save, np.column_stack((river_xy_mesh[:,0],river_xy_mesh[:,1],\n",
    "                                            river_xy_meshindex[:,0],river_xy_meshindex[:,1],azi_river_mesh)),\n",
    "                                           fmt='%3.8f %3.8f %8d %8d %3.8f')"
   ]
  },
  {
   "cell_type": "code",
   "execution_count": null,
   "metadata": {},
   "outputs": [],
   "source": [
    "for i in range(0,len(order_tRange)):\n",
    "    # filter by processing SHCs\n",
    "    order_t = order_tRange[i]\n",
    "    lmax = int(order_t+1)\n",
    "    coeffs_f = coeffs.copy()\n",
    "    coeffs_f[:, lmax:, :] = 0.\n",
    "    topo_f = pysh.expand.MakeGridDH(coeffs_f, sampling=2)\n",
    "    \n",
    "    # get the area\n",
    "    extent_area_r,data_areaf = fnqx.get_data(topo_f,extent_area,res_deg)\n",
    "\n",
    "    # plot parameters\n",
    "    data_img = data_areaf.copy()\n",
    "    order_img = order_t\n",
    "    fname_fig = 'The CF of the rivers and Topo in ' + name_area +' (order ' + str(order_img) + ')'\n",
    "    \n",
    "    # gradient of the area topo \n",
    "    UY,UX = np.gradient(-np.flipud(data_img.copy()))\n",
    "\n",
    "    fig = plt.figure(figsize=(8, 6))\n",
    "    ax = plt.subplot(111)\n",
    "    ax.set(xlabel='Longitude', ylabel='Latitude', yticks=yticks, xticks=xticks)\n",
    "    ax.minorticks_on()\n",
    "    ax.axis(extent_fig)\n",
    "    ax.set_title(fname_fig)\n",
    "    for i_river in range(0,len(labels)):\n",
    "        # load river data\n",
    "        fname_load = \"data_rivers/River\"+labels2[i_river]+'_mesh.txt'\n",
    "        river_data = np.loadtxt(fname_load)\n",
    "        river_xy   = river_data[:,0:2]\n",
    "        river_idxy = river_data[:,2:4]\n",
    "        azi_river  = river_data[:,4]\n",
    "     \n",
    "        # cal the azimuth of the topo\n",
    "        azi_topo = np.zeros(len(azi_river))\n",
    "        river_idyx = np.fliplr(river_idxy.copy()).astype(int)\n",
    "        for ii in range(0,len(azi_river)):\n",
    "            idyx = tuple(river_idyx[ii])\n",
    "            x = UX[idyx]\n",
    "            y = UY[idyx]\n",
    "            azi_topo[ii] = fnqx.cal_azi(0,0,x,y)\n",
    "    \n",
    "        delta = np.abs(azi_river - azi_topo)\n",
    "        cf = np.cos(np.radians(delta))\n",
    "        \n",
    "        sc = ax.scatter(river_xy[:,0],river_xy[:,1],label=labels[i_river],c=cf,vmin=-1,vmax=1,cmap=cm.rainbow,s=5)\n",
    "    plt.colorbar(sc)\n",
    "    if save_mode == True:\n",
    "        plt.savefig((fname_fig+'.png'),dpi=dpi)\n",
    "    plt.show()"
   ]
  }
 ],
 "metadata": {
  "kernelspec": {
   "display_name": "py37　",
   "language": "python",
   "name": "py37"
  },
  "language_info": {
   "codemirror_mode": {
    "name": "ipython",
    "version": 3
   },
   "file_extension": ".py",
   "mimetype": "text/x-python",
   "name": "python",
   "nbconvert_exporter": "python",
   "pygments_lexer": "ipython3",
   "version": "3.7.6"
  }
 },
 "nbformat": 4,
 "nbformat_minor": 4
}
