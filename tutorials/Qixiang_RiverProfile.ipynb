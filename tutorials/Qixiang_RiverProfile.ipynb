{
 "cells": [
  {
   "cell_type": "markdown",
   "metadata": {},
   "source": [
    "# How to plot river profile from the observed data (dem data)\n",
    "\n",
    "1.Create dem.tif of the specific area for Topotoolbox input\n",
    "\n",
    "2.Plot river profile by Topotoolbox\n",
    "\n",
    "3.Plot river profile with python"
   ]
  },
  {
   "cell_type": "markdown",
   "metadata": {},
   "source": [
    "## 1. Create dem.tif of the specific area for Topotoolbox input\n",
    "\n",
    "### DEM Data\n",
    " - [SRTM Verison 3.0 (3 arc second, 90m resolution)](https://opentopography.org/news/srtm-version-30-global-90m-and-united-states-30m-elevation-data-now-available)\n",
    " - [ETOPO1 (1 arc-minute)](https://www.ngdc.noaa.gov/mgg/global/)\n",
    " - [USGS](https://earthexplorer.usgs.gov/)\n",
    "\n",
    "### Documents\n",
    "- [GDAL documentation](https://gdal.org/index.html#)\n",
    "- [Python GDAL/OGR Cookbook](http://pcjericks.github.io/py-gdalogr-cookbook/)\n",
    "- [HeadFirst GDAL](https://headfirst-gdal.readthedocs.io/en/latest/index.html)\n",
    "- [A Gentle Introduction to GDAL, Part 3: Geodesy & Local Map Projections](https://medium.com/planet-stories/a-gentle-introduction-to-gdal-part-3-geodesy-local-map-projections-794c6ff675ca)\n",
    "- [Projections](https://proj.org/operations/projections/tmerc.html)\n",
    "\n",
    "### GIS software\n",
    "[Global Mapper](https://www.bluemarblegeo.com/products/global-mapper-download.php)\n",
    "\n",
    "### Topographic analysis tool\n",
    "[TopoToolbox](https://topotoolbox.wordpress.com/)\n",
    "\n",
    "TopoToolbox 2 reads the ESRI ascii grid format and single band geotiffs into an instance of GRIDobj.\n",
    "Note that, throughout the use of TopoToolbox, it is assumed that the DEM has a projected\n",
    "coordinate system (e.g. UTM WGS84) and that elevation and horizontal coordinates are in meter\n",
    "units"
   ]
  },
  {
   "cell_type": "code",
   "execution_count": 1,
   "metadata": {},
   "outputs": [],
   "source": [
    "from osgeo import gdal\n",
    "import numpy as np\n",
    "import matplotlib.pyplot as plt\n",
    "from matplotlib import cm\n",
    "%matplotlib inline\n",
    "from matplotlib.colors import LightSource"
   ]
  },
  {
   "cell_type": "markdown",
   "metadata": {},
   "source": [
    "### SRTM\n",
    "\n",
    "Download the SRTM data of a specific area from [Opentopography](https://portal.opentopography.org/raster?opentopoID=OTSRTM.042013.4326.1).\n",
    "\n",
    "Here presents the SRTM data of the three rivers region:\n",
    "\n",
    "1.Data Selection Coordinates: Xmin = 91, Ymin =21, Xmax = 106, Ymax = 35\n",
    "\n",
    "2.Data Output Formats: GeoTiff"
   ]
  },
  {
   "cell_type": "code",
   "execution_count": 2,
   "metadata": {},
   "outputs": [
    {
     "name": "stdout",
     "output_type": "stream",
     "text": [
      "Creating output file that is 1400P x 1413L.\n",
      "Processing Data_DEM/srtm_TRR_90m.tif [1/1] : 0Using internal nodata values (e.g. -32768) for image Data_DEM/srtm_TRR_90m.tif.\n",
      "Copying nodata values from source Data_DEM/srtm_TRR_90m.tif to destination Data_DEM/srtm_TRR_90m_input.tif.\n",
      "...10...20...30...40...50...60...70...80...90...100 - done.\n"
     ]
    }
   ],
   "source": [
    "# project the SRTM data for Topotoolbox input\n",
    "\n",
    "input_file = \"Data_DEM/srtm_TRR_90m.tif\"\n",
    "output_file = \"Data_DEM/srtm_TRR_90m_input.tif\"\n",
    "\n",
    "#!gdalinfo --version\n",
    "#!gdalinfo $input_file\n",
    "\n",
    "proj_input = 'EPSG:4326'\n",
    "# lat_0 = (Ymin+Ymax)/2 lon_0 = (Xmin+Xmax)/2 \n",
    "#proj_output = \"'+proj=tmerc +lat_0=29 +lon_0=100 +k=1 x_0=0 +y_0=0 +datum=WGS84 +units=m +no_defs'\" \n",
    "proj_output = \"'+proj=tmerc +lat_0=28 +lon_0=98.5 +k=1 x_0=0 +y_0=0 +datum=WGS84 +units=m +no_defs'\" \n",
    "\n",
    "\n",
    "!gdalwarp -s_srs $proj_input -t_srs $proj_output -ts 1400 0 -r bilinear $input_file $output_file"
   ]
  },
  {
   "cell_type": "markdown",
   "metadata": {},
   "source": [
    "## 2. Plot river profile by Topotoolbox\n",
    "\n",
    "2.1 Download the Topotoolbox package \n",
    "\n",
    "2.2 Run \"Qixiang_RiverProfile_Topotoolbox.m\" in matlab, the output river data is saved in \"Data_Rivers/\""
   ]
  },
  {
   "cell_type": "markdown",
   "metadata": {},
   "source": [
    "## 3. Plot river profile with python"
   ]
  },
  {
   "cell_type": "code",
   "execution_count": 3,
   "metadata": {},
   "outputs": [],
   "source": [
    "import scipy.io as scio\n",
    "import matplotlib.pyplot as plt\n",
    "import numpy as np"
   ]
  },
  {
   "cell_type": "code",
   "execution_count": 4,
   "metadata": {},
   "outputs": [],
   "source": [
    "def moving_average(interval, window_size):\n",
    "    window = np.ones(int(window_size)) / float(window_size)\n",
    "    return np.convolve(interval, window, 'same')  "
   ]
  },
  {
   "cell_type": "code",
   "execution_count": 5,
   "metadata": {},
   "outputs": [
    {
     "data": {
      "text/plain": [
       "<matplotlib.legend.Legend at 0x7fb27f011d68>"
      ]
     },
     "execution_count": 5,
     "metadata": {},
     "output_type": "execute_result"
    },
    {
     "data": {
      "image/png": "[encoded data removed]",
      "text/plain": [
       "<Figure size 576x432 with 1 Axes>"
      ]
     },
     "metadata": {},
     "output_type": "display_data"
    }
   ],
   "source": [
    "rivers = [1,2,3] # 'Yangtz','Mekong','Salween'\n",
    "window_size = 50\n",
    "\n",
    "labels= ['Yangtz','Mekong','Salween']\n",
    "colors =['b','y','c']\n",
    "Fig1, (f1) = plt.subplots(1,1,figsize=(8,6))\n",
    "for i in range(0,len(rivers)):\n",
    "    fname = 'Data_Rivers/river'+str(rivers[i])+'.mat'\n",
    "    data  = scio.loadmat(fname) \n",
    "    \n",
    "    dist = data[\"distance\"]/1000.  # unit from m to km \n",
    "    dist[np.where(np.isnan(dist))]=0.\n",
    "    dist = dist.T\n",
    "    \n",
    "    elev = data['elevation']/1000. # unit from m to km \n",
    "    elev[np.where(np.isnan(elev))]=0.\n",
    "    #elev[np.where(np.isnan(elev))]=elev[:,int(np.where(np.isnan(elev))[:][1]-1000)] \n",
    "    elev = elev.T\n",
    "\n",
    "    elev_smooth = moving_average(interval = elev.flatten(), window_size =window_size)\n",
    "    label = labels[i]\n",
    "    color = colors[i]\n",
    "    f1.plot(dist[window_size:len(dist)],elev_smooth[window_size:len(dist)],label=label,color=color)\n",
    "\n",
    "f1.set_xlabel(\"Distance (km)\")\n",
    "f1.set_ylabel(\"Elevation (km)\")\n",
    "plt.legend(loc = 'lower right',prop = {'size':8}) "
   ]
  }
 ],
 "metadata": {
  "kernelspec": {
   "display_name": "Python 3",
   "language": "python",
   "name": "python3"
  },
  "language_info": {
   "codemirror_mode": {
    "name": "ipython",
    "version": 3
   },
   "file_extension": ".py",
   "mimetype": "text/x-python",
   "name": "python",
   "nbconvert_exporter": "python",
   "pygments_lexer": "ipython3",
   "version": "3.7.6"
  }
 },
 "nbformat": 4,
 "nbformat_minor": 2
}
